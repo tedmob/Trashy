{
 "cells": [
  {
   "cell_type": "code",
   "execution_count": 12,
   "metadata": {
    "collapsed": false,
    "scrolled": true
   },
   "outputs": [
    {
     "ename": "ImportError",
     "evalue": "No module named 'pynq'",
     "output_type": "error",
     "traceback": [
      "\u001b[0;31m---------------------------------------------------------------------------\u001b[0m",
      "\u001b[0;31mImportError\u001b[0m                               Traceback (most recent call last)",
      "\u001b[0;32m<ipython-input-12-21ead8e8aad8>\u001b[0m in \u001b[0;36m<module>\u001b[0;34m()\u001b[0m\n\u001b[1;32m      2\u001b[0m \u001b[1;33m\u001b[0m\u001b[0m\n\u001b[1;32m      3\u001b[0m \u001b[1;31m#Flush IOP aka IOProcessor unit\u001b[0m\u001b[1;33m\u001b[0m\u001b[1;33m\u001b[0m\u001b[0m\n\u001b[0;32m----> 4\u001b[0;31m \u001b[1;32mfrom\u001b[0m \u001b[0mpynq\u001b[0m \u001b[1;32mimport\u001b[0m \u001b[0mOverlay\u001b[0m\u001b[1;33m\u001b[0m\u001b[0m\n\u001b[0m\u001b[1;32m      5\u001b[0m \u001b[0mOverlay\u001b[0m\u001b[1;33m(\u001b[0m\u001b[1;34m\"base.bit\"\u001b[0m\u001b[1;33m)\u001b[0m\u001b[1;33m.\u001b[0m\u001b[0mdownload\u001b[0m\u001b[1;33m(\u001b[0m\u001b[1;33m)\u001b[0m\u001b[1;33m\u001b[0m\u001b[0m\n\u001b[1;32m      6\u001b[0m \u001b[1;31m#this avoid errors like \"the device is used by another process...\"\u001b[0m\u001b[1;33m\u001b[0m\u001b[1;33m\u001b[0m\u001b[0m\n",
      "\u001b[0;31mImportError\u001b[0m: No module named 'pynq'"
     ]
    }
   ],
   "source": [
    "#Code to manage step-motors and servo that are a relevant part of our project\n",
    "\n",
    "#First of all let's flush the IOPs (aka IOProcessor units)\n",
    "from pynq import Overlay\n",
    "#this call avoids errors like \"the device <GPIO...> is used by another process...\" \n",
    "Overlay(\"base.bit\").download()\n",
    "\n",
    "#import libraries to make our magic\n",
    "from time import sleep\n",
    "from pynq.iop import ARDUINO\n",
    "from pynq.iop.arduino_io import Arduino_IO\n"
   ]
  },
  {
   "cell_type": "markdown",
   "metadata": {},
   "source": [
    "![Detail of a stepper motor used during project](photo_2017-01-15_13-14-16.jpg)\n"
   ]
  },
  {
   "cell_type": "code",
   "execution_count": null,
   "metadata": {
    "collapsed": true
   },
   "outputs": [],
   "source": [
    "#---------- STEPPER MOTOR ---------\n",
    "#For a closer look at how stepper work are made and\n",
    "#can be used take a look at http://www.instructables.com/id/Controlling-Bipolar-Stepper-Motors-with-Arduino-wi/?ALLSTEPS\n",
    "\n",
    "#Speed stepper motor parameters \n",
    "#These have been pragmatically determined.\n",
    "#In most cases stepper mototrs carry a number that represent how many steps(aka for cycles**) a\n",
    "#mcu has to make to properly conclude a spin. Usually this value is given by the producer.   \n",
    "speed = 0.035\n",
    "stepsForAQuarterOfRotation = 13\n",
    "\n",
    "#Steppers motors required an array of transistors to adapt mcu voltage, \n",
    "#to a une usable by the motor, they're controlled by these pins. \n",
    "#setup digital pins for stepper motor\n",
    "D1 = Arduino_IO(ARDUINO,2,\"out\")\n",
    "D2 = Arduino_IO(ARDUINO,3,\"out\")\n",
    "D3 =  Arduino_IO(ARDUINO,4,\"out\")\n",
    "D4 =  Arduino_IO(ARDUINO,5,\"out\")\n",
    "\n",
    "\n",
    "#function for one way rotation of step motor in a clockwise fashion\n",
    "def antiorario(steps = stepsForAQuarterOfRotation):\n",
    "    #**\n",
    "    #procedure to properly power the internal windings of the motor \n",
    "    for i in range(steps):\n",
    "        \n",
    "        D1.write(0)\n",
    "        D2.write(0)\n",
    "        D3.write(0)\n",
    "        D4.write(1)\n",
    "        sleep(speed)\n",
    "        D1.write(0)\n",
    "        D2.write(1)\n",
    "        D3.write(0)\n",
    "        D4.write(0)\n",
    "        sleep(speed)\n",
    "        D1.write(0)\n",
    "        D2.write(0)\n",
    "        D3.write(1)\n",
    "        D4.write(0)\n",
    "        sleep(speed)\n",
    "        D1.write(1)\n",
    "        D2.write(0)\n",
    "        D3.write(0)\n",
    "        D4.write(0)\n",
    "        sleep(0.025)\n",
    "\n",
    "        \n",
    "#function to execute a quarter of rotation in anticlockwise fashion\n",
    "def orario(steps = stepsForAQuarterOfRotation):\n",
    "    #**\n",
    "    for i in range(steps):\n",
    "        D1.write(1)\n",
    "        D2.write(0)\n",
    "        D3.write(0)\n",
    "        D4.write(0)\n",
    "        sleep(speed)\n",
    "        D1.write(0)\n",
    "        D2.write(0)\n",
    "        D3.write(1)\n",
    "        D4.write(0)\n",
    "        sleep(speed)\n",
    "        D1.write(0)\n",
    "        D2.write(1)\n",
    "        D3.write(0)\n",
    "        D4.write(0)\n",
    "        sleep(speed)\n",
    "        D1.write(0)\n",
    "        D2.write(0)\n",
    "        D3.write(0)\n",
    "        D4.write(1)\n",
    "        sleep(speed)"
   ]
  },
  {
   "cell_type": "markdown",
   "metadata": {},
   "source": [
    "![Stepper motor details](photo_2017-01-15_13-14-25.jpg)\n"
   ]
  },
  {
   "cell_type": "code",
   "execution_count": 13,
   "metadata": {
    "collapsed": false
   },
   "outputs": [
    {
     "ename": "ImportError",
     "evalue": "No module named 'pynq'",
     "output_type": "error",
     "traceback": [
      "\u001b[0;31m---------------------------------------------------------------------------\u001b[0m",
      "\u001b[0;31mImportError\u001b[0m                               Traceback (most recent call last)",
      "\u001b[0;32m<ipython-input-13-f63437bfb3b7>\u001b[0m in \u001b[0;36m<module>\u001b[0;34m()\u001b[0m\n\u001b[1;32m      2\u001b[0m \u001b[1;31m#For a quick overview of how servo works and how you can programmatively\u001b[0m\u001b[1;33m\u001b[0m\u001b[1;33m\u001b[0m\u001b[0m\n\u001b[1;32m      3\u001b[0m \u001b[1;31m#setup pwm pin for servo motor\u001b[0m\u001b[1;33m\u001b[0m\u001b[1;33m\u001b[0m\u001b[0m\n\u001b[0;32m----> 4\u001b[0;31m \u001b[1;32mfrom\u001b[0m \u001b[0mpynq\u001b[0m\u001b[1;33m.\u001b[0m\u001b[0miop\u001b[0m\u001b[1;33m.\u001b[0m\u001b[0mpmod_pwm\u001b[0m \u001b[1;32mimport\u001b[0m \u001b[0mPmod_PWM\u001b[0m\u001b[1;33m\u001b[0m\u001b[0m\n\u001b[0m\u001b[1;32m      5\u001b[0m \u001b[0mpin\u001b[0m \u001b[1;33m=\u001b[0m \u001b[0mPmod_PWM\u001b[0m\u001b[1;33m(\u001b[0m\u001b[1;36m1\u001b[0m\u001b[1;33m,\u001b[0m\u001b[1;36m0\u001b[0m\u001b[1;33m)\u001b[0m\u001b[1;33m\u001b[0m\u001b[0m\n\u001b[1;32m      6\u001b[0m \u001b[0mpin\u001b[0m\u001b[1;33m.\u001b[0m\u001b[0mstop\u001b[0m\u001b[1;33m(\u001b[0m\u001b[1;33m)\u001b[0m\u001b[1;33m\u001b[0m\u001b[0m\n",
      "\u001b[0;31mImportError\u001b[0m: No module named 'pynq'"
     ]
    }
   ],
   "source": [
    "#----- SERVO MOTOR --------\n",
    "#For a quick overview of how servo works and how you can programmatively \n",
    "#use them take a view of https://learn.sparkfun.com/tutorials/pulse-width-modulation\n",
    "\n",
    "\n",
    "#setup pwm pin for servo motor\n",
    "from pynq.iop.pmod_pwm import Pmod_PWM\n",
    "pin = Pmod_PWM(1,0)\n",
    "pin.stop()\n",
    "\n",
    "#turn back servo motor\n",
    "def puttoff():\n",
    "    pin.generate(20000, 10)\n",
    "    sleep(0.2)\n",
    "    pin.generate(20000, 9)\n",
    "    sleep(0.2)\n",
    "    pin.generate(20000, 8)\n",
    "    sleep(1)\n",
    "    pin.stop()\n",
    "    \n",
    "#throw the object using the servo\n",
    "def putton():\n",
    "    pin.generate(20000, 9)\n",
    "    sleep(0.2)\n",
    "    pin.generate(20000, 10)\n",
    "    sleep(0.2)\n",
    "    pin.generate(20000, 11)\n",
    "    sleep(1)\n",
    "    pin.stop()\n"
   ]
  },
  {
   "cell_type": "markdown",
   "metadata": {},
   "source": []
  },
  {
   "cell_type": "code",
   "execution_count": 10,
   "metadata": {
    "collapsed": true
   },
   "outputs": [],
   "source": [
    "#To connect all toghether we use this function\n",
    "\n",
    "#function for rotation and throw\n",
    "#params giri= number of bin to step throught\n",
    "def ruota(giri):\n",
    "    if(giri <= 2):\n",
    "      for i in range(giri):\n",
    "        antiorario()\n",
    "      puttoff()\n",
    "      putton()\n",
    "      for i in range(giri):\n",
    "        orario()\n",
    "    else:\n",
    "      for i in range(giri-2):\n",
    "        orario()\n",
    "      puttoff()\n",
    "      putton()\n",
    "      for i in range(giri-2):\n",
    "        antiorario()"
   ]
  },
  {
   "cell_type": "markdown",
   "metadata": {},
   "source": [
    "![vision from above](photo_2017-01-15_13-14-32.jpg)"
   ]
  },
  {
   "cell_type": "code",
   "execution_count": 14,
   "metadata": {
    "collapsed": false
   },
   "outputs": [
    {
     "data": {
      "text/html": [
       "<video width=\"320\" height=\"240\" controls>\n",
       "  <source src=\"acoupofcoffe.mp4\" type=\"video/mp4\">\n",
       "</video>"
      ],
      "text/plain": [
       "<IPython.core.display.HTML object>"
      ]
     },
     "metadata": {},
     "output_type": "display_data"
    }
   ],
   "source": [
    "Take it into action\n",
    "%%HTML\n",
    "<video width=\"320\" height=\"240\" controls>\n",
    "  <source src=\"acoupofcoffe.mp4\" type=\"video/mp4\">\n",
    "</video>\n"
   ]
  },
  {
   "cell_type": "code",
   "execution_count": null,
   "metadata": {
    "collapsed": true
   },
   "outputs": [],
   "source": [
    "Enjoy by Alex,Parra,Manca"
   ]
  }
 ],
 "metadata": {
  "celltoolbar": "Raw Cell Format",
  "kernelspec": {
   "display_name": "Python 3",
   "language": "python",
   "name": "python3"
  },
  "language_info": {
   "codemirror_mode": {
    "name": "ipython",
    "version": 3
   },
   "file_extension": ".py",
   "mimetype": "text/x-python",
   "name": "python",
   "nbconvert_exporter": "python",
   "pygments_lexer": "ipython3",
   "version": "3.5.2"
  }
 },
 "nbformat": 4,
 "nbformat_minor": 2
}
